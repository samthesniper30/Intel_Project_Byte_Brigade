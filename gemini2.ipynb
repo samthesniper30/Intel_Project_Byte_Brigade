{
 "cells": [
  {
   "cell_type": "markdown",
   "metadata": {},
   "source": [
    "**CODE FOR USING THE EXTRACTED TEXT FILE AND DOING A ANALYSIS OF IT TO FIND OUT THE KEY ISSUES AND ADVANTAGES OF THE PROCESSOR**"
   ]
  },
  {
   "cell_type": "code",
   "execution_count": 1,
   "metadata": {},
   "outputs": [
    {
     "name": "stdout",
     "output_type": "stream",
     "text": [
      "Requirement already satisfied: requests in c:\\users\\hp\\appdata\\local\\programs\\python\\python311\\lib\\site-packages (2.31.0)Note: you may need to restart the kernel to use updated packages.\n",
      "\n",
      "Requirement already satisfied: charset-normalizer<4,>=2 in c:\\users\\hp\\appdata\\local\\programs\\python\\python311\\lib\\site-packages (from requests) (3.3.2)\n",
      "Requirement already satisfied: idna<4,>=2.5 in c:\\users\\hp\\appdata\\local\\programs\\python\\python311\\lib\\site-packages (from requests) (3.6)\n",
      "Requirement already satisfied: urllib3<3,>=1.21.1 in c:\\users\\hp\\appdata\\local\\programs\\python\\python311\\lib\\site-packages (from requests) (2.2.0)\n",
      "Requirement already satisfied: certifi>=2017.4.17 in c:\\users\\hp\\appdata\\local\\programs\\python\\python311\\lib\\site-packages (from requests) (2024.2.2)\n",
      "Note: you may need to restart the kernel to use updated packages.\n"
     ]
    }
   ],
   "source": [
    "%pip install requests\n",
    "%pip install -q -U google-generativeai"
   ]
  },
  {
   "cell_type": "markdown",
   "metadata": {},
   "source": [
    "**SINCE WE ARE USING GEMINI HERE AGAIN WE NEED TO GENERATE AN API KEY FROM GOOGLE AI STUDIO AND INSERT IT HERE**"
   ]
  },
  {
   "cell_type": "code",
   "execution_count": 2,
   "metadata": {},
   "outputs": [
    {
     "name": "stdout",
     "output_type": "stream",
     "text": [
      "**Key Points:**\n",
      "\n",
      "* i5 11400f (released in 2021) still performs well for video editing and gaming at 1080p with an RTX 3060.\n",
      "* Requires an air cooler (not the stock cooler) to prevent overheating.\n",
      "* Not overclockable.\n",
      "* For builds after 2024, consider the 12th generation or later for future upgradeability.\n",
      "* The i5 11400f provides good performance for its price and meets the user's needs.\n",
      "**Key Points:**\n",
      "\n",
      "* While the product is satisfactory and not planned for future upgrades, it is recommended to consider 12th or 13th generation processors instead of 11th generation for future-proofing in 2024 and beyond.\n",
      "-1\n",
      "-1\n",
      "-1\n",
      "-1\n",
      "-1\n",
      "-1\n",
      "-1\n",
      "-1\n",
      "-1\n",
      "- **CPU:** Intel Core i5-11400F with 6 cores\n",
      "- **Performance:** Surprises with FPS performance, outperforming many 8-core CPUs\n",
      "- **Compatibility:** Ideal for entry-level 1080p and mid-tier 1440p gaming setups\n",
      "- **Price:** Reasonably priced at under $200\n",
      "- **Versatile:** Handles video/image editing and gaming well\n",
      "- **Value:** Offers excellent price-to-performance ratio\n",
      "**Key Points:**\n",
      "\n",
      "* Intel Core i5-11400F processor provides good performance for office work.\n",
      "* Not suitable for gaming; Core i7 recommended for that purpose.\n",
      "* Requires an external graphics card as it does not support integrated graphics.\n",
      "* Good value when paired with a B560M motherboard.\n",
      "* Delivers faster performance than previous generation i3 processors.\n",
      "- Old gaming computer upgraded with a 2060 GPU\n",
      "- Shipping arrived earlier than expected\n",
      "- Intel i7-920 CPU is excellent for mid-range and some high-end GPUs\n",
      "- RX 6650 XT GPU works well with the i7-920 CPU in gaming and video editing\n",
      "- The stock fan is of poor quality\n",
      "- For gaming, i5 processors outperform i3s but are comparable to i7s.\n",
      "- The i5-11400F can handle 4K photo and video editing without issues.\n",
      "- Choosing the i5-11400F over the newer i5-12400F saves money with minimal performance loss.\n",
      "- This CPU requires a dedicated graphics card as it does not have integrated graphics.\n",
      "- The Intel i5-11400 is a good CPU for a mid-range gaming PC, especially when paired with a decent GPU.\n",
      "- The reviewer built a gaming PC with an i5-11400 and an Arc 750 GPU and found it to perform well, with only a slight decrease in FPS compared to an i7-11700K and an RTX 3070 Ti.\n",
      "- The reviewer was so impressed with the i5-11400 that they decided to keep the PC instead of selling it.\n",
      "- Intel i5-11400F offers great value for budget gamers at $150.\n",
      "- Performs well in both gaming and daily usage.\n",
      "- Provides a noticeable improvement over older generation Intel processors.\n",
      "- Satisfied with the purchase and expects it to last for a while.\n",
      "- 11th generation Intel processor with good performance.\n",
      "**Key Points:**\n",
      "\n",
      "* Intel 1200 LGA is a fast processor.\n",
      "* It offers sufficient power for games and basic tasks without bottlenecks.\n",
      "* It's an excellent entry-level CPU.\n",
      "* Despite requiring a separate heatsink, it's still worthwhile.\n",
      "* It can run games smoothly, reaching 240 FPS.\n",
      "* It's not necessary to have more than 6 cores for gaming.\n",
      "* Some promotions, such as free game codes, may not be available from all sellers.\n",
      "* It provides a hassle-free experience when paired with Intel CPUs and ASUS Tuf B560 motherboards.\n",
      "- Excellent performance for most games and applications, including Dota 2, Path of Exile, and Elden Ring.\n",
      "- Recommended over the i3 due to lower prices and six cores.\n",
      "- Fast delivery and easy installation.\n",
      "- Suitable for first-time computer builders.\n",
      "- Requires a better cooling solution than the stock heatsink for heavy use.\n",
      "- High price-to-performance ratio (USD 175)\n",
      "- Runs hot, especially without power limits\n",
      "- Recommended for low-power consumption\n",
      "- Good performance\n",
      "- No integrated graphics\n",
      "- Product comes with a weak heatsink, but the CPU itself is excellent and efficient\n",
      "- Performs well for office work and casual gaming.\n",
      "- Does not bottleneck a 3050 or 3060 graphics card.\n",
      "- Runs hot, so an aftermarket cooler is recommended.\n",
      "- Good value for the performance and price.\n",
      "- Typically arrives quickly after purchase.\n",
      "- Stays cool even at higher frequencies.\n",
      "- Suitable for QHD gaming at 165Hz.\n",
      "- No notable issues to report.\n",
      "-1\n",
      "**Key Points:**\n",
      "\n",
      "* Intel Core i5 11400F processor\n",
      "* 2.65 GHz base clock, 4.40 GHz boost clock\n",
      "* 6 cores, 12 threads\n",
      "* 8MB Smart Cache\n",
      "* Requires thorough background check on the seller\n",
      "* Performs well\n",
      "* Recommended for gaming, but requires a better cooler than stock due to high temperatures\n",
      "- Best processor for the price, especially with a good graphics card.\n",
      "- No bottlenecking with mid-high range graphics cards.\n",
      "- Works well with Windows 11.\n",
      "- Requires a more powerful heatsink to avoid overheating and potential damage.\n",
      "- Not as good as other options, but works sufficiently.\n",
      "- No original box or cooler included.\n",
      "- Performs well for editing and gaming tasks.\n",
      "**Key Points:**\n",
      "\n",
      "* Intel Core i5-6600K outperforms a 6th-gen i5-6600K.\n",
      "* Provides good value for the price.\n",
      "* Performs well with a 3070 Ti GPU, delivering consistent and smooth performance.\n",
      "* Poor packaging.\n",
      "- The CPU runs extremely hot, even with additional cooling.\n",
      "- It will not boot without a dedicated graphics card.\n",
      "- For gaming PCs.\n",
      "- The included fan is insufficient for cooling.\n",
      "- Requires a liquid cooler.\n",
      "- The \"F\" in the processor name indicates the need for a graphics card.\n",
      "- Do not buy based on \"up to\" speeds, focus on the base speed.\n",
      "- User received a used product instead of a new one.\n",
      "- Purchased an Intel Core i5-11400F CPU from Platinum Micro Inc. through Amazon.\n",
      "- CPU was reported as \"new\" but arrived in a sealed package with thermal paste already applied.\n",
      "- CPU failed to work in a newly built system, which was subsequently confirmed by using a replacement CPU from another PC.\n",
      "- Platinum Micro Inc. has been requested to provide a replacement CPU that is in its original, unopened box and functional.\n",
      "- The reviewer suspects that other Amazon buyers may have experienced similar issues with this vendor.\n"
     ]
    }
   ],
   "source": [
    "import time\n",
    "import google.generativeai as genai\n",
    "model = genai.GenerativeModel('gemini-pro')\n",
    "GOOGLE_API_KEY=''#ENTER API KEY HERE\n",
    "genai.configure(api_key=GOOGLE_API_KEY)\n",
    "\n",
    "with open('output.txt', 'r') as f:\n",
    "  text = f.read()\n",
    "\n",
    "\n",
    "#THIS IS FOR ADHERING TO THE LIMITS OF THE PROMPT BY DIVIDING THE TEXT FILE INTO CHUNKS\n",
    "chunk_size = 1000\n",
    "chunks = [text[i:i+chunk_size] for i in range(0, len(text), chunk_size)]\n",
    "\n",
    "results = []\n",
    "\n",
    "for chunk in chunks:\n",
    "  try:\n",
    "    prompt = f\"Summarize  the key points of this text {chunk}in 1 line: and if you cant understand the text or no text is found just reply with -1\\n\\n\"\n",
    "    response = model.generate_content(prompt)\n",
    "    print(response.text)\n",
    "    results.append(response)\n",
    "  except:\n",
    "    time.sleep(61)\n"
   ]
  },
  {
   "cell_type": "markdown",
   "metadata": {},
   "source": [
    "**STORE THE RESULT IN A SUMMARY FILE**"
   ]
  },
  {
   "cell_type": "code",
   "execution_count": 3,
   "metadata": {},
   "outputs": [],
   "source": [
    "filename = \"summary.txt\"\n",
    "\n",
    "with open(filename, 'w') as file:\n",
    "    for item in results:\n",
    "        file.write(item.text + \"\\n\") "
   ]
  },
  {
   "cell_type": "markdown",
   "metadata": {},
   "source": [
    "**APPLY GEMINI AGAIN TO BREAK IT DOWN EVEN FURTHER TO GET THE MOST IMPORTANT POINTS FROM THE REVIEWS ONLY**"
   ]
  },
  {
   "cell_type": "code",
   "execution_count": 4,
   "metadata": {},
   "outputs": [
    {
     "name": "stdout",
     "output_type": "stream",
     "text": [
      "**Repeated Points:**\n",
      "\n",
      "* Consider the i5 11400f for its solid performance in video editing and gaming at 1080p with an RTX 3060.\n",
      "* Ensure adequate cooling with an air cooler, as overheating may occur with the stock cooler.\n",
      "* While the 11400f is not overclockable, it provides good value for its price and meets user needs.\n",
      "* For builds after 2024, prioritize 12th generation or later processors for future upgradeability.\n",
      "- Intel Core i5-11400F offers good performance for office use but not gaming.\n",
      "- This CPU requires an external graphics card due to its lack of integrated graphics.\n",
      "- For gaming, i5 processors are generally preferred over i3s but are comparable to i7s.\n",
      "- The Intel i5-11400F handles 4K photo and video editing effectively.\n",
      "- Choosing this CPU over the newer i5-12400F can save money with minimal performance compromise.\n",
      "- Intel i5-11400 and i5-11400F offer exceptional value for budget gaming PCs, delivering excellent performance in both games and daily tasks.\n",
      "- Despite not being the latest generation, these processors provide a significant upgrade over older Intel models, ensuring smooth gameplay and sufficient power for basic tasks.\n",
      "- The compact form factor and affordability make these processors ideal for budget-conscious gamers seeking a hassle-free entry-level setup.\n",
      "- The CPU offers excellent performance, especially when paired with Intel CPUs and ASUS Tuf B560 motherboards.\n",
      "- It is recommended for first-time computer builders and is suitable for both office work and casual gaming.\n",
      "- Despite its low power consumption and good value for the performance and price, the CPU runs hot and requires a better cooling solution for heavy use.\n",
      "**Processor:**\n",
      "\n",
      "* Stays cool even at higher frequencies.\n",
      "* Suitable for QHD gaming at 165Hz.\n",
      "* No notable issues to report.\n",
      "* Requires a more powerful heatsink to avoid overheating.\n",
      "-1\n"
     ]
    }
   ],
   "source": [
    "with open('summary.txt', 'r') as f:\n",
    "  text = f.read()\n",
    "\n",
    "chunk_size = 1000\n",
    "chunks = [text[i:i+chunk_size] for i in range(0, len(text), chunk_size)]\n",
    "\n",
    "results = []\n",
    "\n",
    "for chunk in chunks:\n",
    "  try:\n",
    "    prompt = f\"Summarize  the repeated points of this text {chunk}in 1 line: and if it is -1 just ignore it \\n\\n\"\n",
    "    response = model.generate_content(prompt)\n",
    "    print(response.text)\n",
    "    results.append(response)\n",
    "  except:\n",
    "    time.sleep(61)"
   ]
  },
  {
   "cell_type": "markdown",
   "metadata": {},
   "source": [
    "**STORE IT IN ANOTHER TEXT FILE**"
   ]
  },
  {
   "cell_type": "code",
   "execution_count": 5,
   "metadata": {},
   "outputs": [],
   "source": [
    "filename = \"summary_final.txt\"\n",
    "\n",
    "with open(filename, 'w') as file:\n",
    "    for item in results:\n",
    "        file.write(item.text + \"\\n\") "
   ]
  }
 ],
 "metadata": {
  "kernelspec": {
   "display_name": "Python 3",
   "language": "python",
   "name": "python3"
  },
  "language_info": {
   "codemirror_mode": {
    "name": "ipython",
    "version": 3
   },
   "file_extension": ".py",
   "mimetype": "text/x-python",
   "name": "python",
   "nbconvert_exporter": "python",
   "pygments_lexer": "ipython3",
   "version": "3.11.4"
  }
 },
 "nbformat": 4,
 "nbformat_minor": 2
}
