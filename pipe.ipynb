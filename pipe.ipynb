{
 "cells": [
  {
   "cell_type": "markdown",
   "metadata": {},
   "source": [
    "**CODE FOR EXTRACTING ALL THE REVIEWS AS A WHOLE AND STORING IT IN A TEXT FILE**"
   ]
  },
  {
   "cell_type": "code",
   "execution_count": 5,
   "metadata": {},
   "outputs": [
    {
     "name": "stdout",
     "output_type": "stream",
     "text": [
      "Failed to read the CSV file with encoding: utf-8. Error: 'utf-8' codec can't decode byte 0xe9 in position 6: invalid continuation byte\n",
      "Successfully read the CSV file with encoding: latin1\n",
      "Contents of column 'Review' have been saved to 'output.txt'\n"
     ]
    }
   ],
   "source": [
    "import pandas as pd\n",
    "\n",
    "file_path = 'i5-11th.csv' #ENTER NAME OF CSV FILE HERE \n",
    "\n",
    "column_name = 'Review'  \n",
    "\n",
    "encodings = ['utf-8', 'latin1', 'iso-8859-1', 'cp1252']\n",
    "\n",
    "for encoding in encodings:\n",
    "    try:\n",
    "        df = pd.read_csv(file_path, encoding=encoding)\n",
    "        print(f\"Successfully read the CSV file with encoding: {encoding}\")\n",
    "        break \n",
    "    except UnicodeDecodeError as e:\n",
    "        print(f\"Failed to read the CSV file with encoding: {encoding}. Error: {e}\")\n",
    "\n",
    "column_contents = df[column_name].dropna().tolist()  \n",
    "\n",
    "column_contents_str = '\\n'.join(map(str, column_contents))\n",
    "\n",
    "output_file_path = 'output.txt'#NAME OF OUTPUT TEXT FILE HERE\n",
    "\n",
    "with open(output_file_path, 'w', encoding='utf-8') as file:\n",
    "    file.write(column_contents_str)\n",
    "\n",
    "print(f\"Contents of column '{column_name}' have been saved to '{output_file_path}'\")\n"
   ]
  },
  {
   "cell_type": "code",
   "execution_count": null,
   "metadata": {},
   "outputs": [],
   "source": []
  }
 ],
 "metadata": {
  "kernelspec": {
   "display_name": "Python 3",
   "language": "python",
   "name": "python3"
  },
  "language_info": {
   "codemirror_mode": {
    "name": "ipython",
    "version": 3
   },
   "file_extension": ".py",
   "mimetype": "text/x-python",
   "name": "python",
   "nbconvert_exporter": "python",
   "pygments_lexer": "ipython3",
   "version": "3.11.4"
  }
 },
 "nbformat": 4,
 "nbformat_minor": 2
}
